{
 "cells": [
  {
   "cell_type": "code",
   "execution_count": 13,
   "metadata": {},
   "outputs": [],
   "source": [
    "import pandas as pd\n",
    "import numpy as np\n",
    "import pickle\n",
    "from tqdm import tqdm\n",
    "\n",
    "from tensorflow.keras.models import model_from_json\n",
    "from tensorflow.keras.models import Sequential\n",
    "from tensorflow.keras.layers import LSTM\n",
    "from tensorflow.keras.layers import Dense\n",
    "import matplotlib.pyplot as plt"
   ]
  },
  {
   "cell_type": "code",
   "execution_count": 2,
   "metadata": {},
   "outputs": [],
   "source": [
    "def transform_cleb_df_into_wal_df(cleb_df):\n",
    "    \n",
    "    index_names = {}\n",
    "    for i, (_, row) in enumerate(cleb_df.iterrows()):\n",
    "        \n",
    "        year = str(int(row[2]))\n",
    "        month = str(int(row[1]))\n",
    "        day = str(int(row[0]))\n",
    "        hour = str(int(row[3]))\n",
    "        index_name = year+'-'+month+'-'+day+'-'+hour\n",
    "        \n",
    "        index_names[i] = index_name\n",
    "        \n",
    "    \n",
    "    cleb_df.rename(index=index_names)\n",
    "    cleb_df = cleb_df.drop('day', 1)\n",
    "    cleb_df = cleb_df.drop('month', 1)\n",
    "    cleb_df = cleb_df.drop('year', 1)\n",
    "    cleb_df = cleb_df.drop('hour', 1)\n",
    "    return cleb_df.replace(-1, np.nan)\n",
    "\n",
    "\n",
    "\n",
    "\n",
    "\n",
    "flow_path = \"/home/colombelli/Documents/hydro-ml/data/Vazao.txt\"\n",
    "rain_path = \"/home/colombelli/Documents/hydro-ml/data/Chuva.txt\"\n",
    "et_path = \"/home/colombelli/Documents/hydro-ml/data/ET.txt\"\n",
    "\n",
    "flow_df = pd.read_csv(flow_path, sep=\"\\t\", header=None)\n",
    "flow_df.columns = [\"day\", \"month\", \"year\", \"hour\", \"flow\"]\n",
    "\n",
    "rain_df = pd.read_csv(rain_path, sep=\"\\t\", header=None)\n",
    "rain_df.columns = [\"day\", \"month\", \"year\", \"hour\", \"rain\"]\n",
    "\n",
    "et_df = pd.read_csv(et_path, sep=\"\\t\", header=None)\n",
    "et_df.columns = [\"day\", \"month\", \"year\", \"hour\", \"et\"]\n",
    "\n",
    "\n",
    "flow_df = transform_cleb_df_into_wal_df(flow_df)\n",
    "rain_df = transform_cleb_df_into_wal_df(rain_df)\n",
    "et_df = transform_cleb_df_into_wal_df(et_df)"
   ]
  },
  {
   "cell_type": "code",
   "execution_count": 3,
   "metadata": {},
   "outputs": [],
   "source": [
    "# split a multivariate sequence into samples\n",
    "def split_sequences(sequences, n_steps_in, n_steps_out):\n",
    "    X, y = list(), list()\n",
    "    for i in range(len(sequences)):\n",
    "        # find the end of this pattern\n",
    "        end_ix = i + n_steps_in\n",
    "        out_end_ix = end_ix + n_steps_out\n",
    "        # check if we are beyond the dataset\n",
    "        if out_end_ix > len(sequences):\n",
    "            break\n",
    "        # gather input and output parts of the pattern\n",
    "        seq_x, seq_y = sequences[i:end_ix], sequences[end_ix:out_end_ix, 0]\n",
    "        X.append(seq_x)\n",
    "        y.append(seq_y)\n",
    "    return np.array(X), np.array(y)"
   ]
  },
  {
   "cell_type": "code",
   "execution_count": 4,
   "metadata": {},
   "outputs": [],
   "source": [
    "def get_nash(observed, modeled):\n",
    "    \n",
    "    mean_obs = np.mean(observed)\n",
    "    \n",
    "    variance = 0 \n",
    "    squared_err = 0\n",
    "    for t, obs_flow in enumerate(observed):\n",
    "        squared_err += (modeled[t] - obs_flow) ** 2\n",
    "        variance += (obs_flow - mean_obs) ** 2\n",
    "        \n",
    "    nash = 1 - (squared_err  / variance)\n",
    "    return nash"
   ]
  },
  {
   "cell_type": "code",
   "execution_count": 10,
   "metadata": {},
   "outputs": [],
   "source": [
    "dataset = pd.concat([flow_df, rain_df, et_df], axis=1)\n",
    "dataset.columns = ['flow', 'rain', 'et']\n",
    "\n",
    "n_steps_in = 48\n",
    "n_steps_out = 24\n",
    "\n",
    "to_split = np.array(dataset.iloc[6078:17486, ])   # get 14086 to 17486 for testing\n",
    "X, y = split_sequences(to_split, n_steps_in, n_steps_out)\n",
    "\n",
    "n_features = X.shape[2]"
   ]
  },
  {
   "cell_type": "code",
   "execution_count": 45,
   "metadata": {},
   "outputs": [],
   "source": [
    "model = Sequential()\n",
    "model.add(LSTM(512, \n",
    "               activation='sigmoid',\n",
    "               input_shape=(n_steps_in, n_features)))\n",
    "model.add(Dense(n_steps_out))\n",
    "model.compile(optimizer='adam', loss='mse')"
   ]
  },
  {
   "cell_type": "code",
   "execution_count": 46,
   "metadata": {},
   "outputs": [
    {
     "name": "stdout",
     "output_type": "stream",
     "text": [
      "Epoch 1/200\n",
      "355/355 [==============================] - 88s 248ms/step - loss: 259692.8594\n",
      "Epoch 2/200\n",
      "355/355 [==============================] - 90s 254ms/step - loss: 200214.7812\n",
      "Epoch 3/200\n",
      "355/355 [==============================] - 87s 246ms/step - loss: 164219.3438\n",
      "Epoch 4/200\n",
      "355/355 [==============================] - 85s 239ms/step - loss: 139393.3594\n",
      "Epoch 5/200\n",
      "355/355 [==============================] - 85s 238ms/step - loss: 120806.4141\n",
      "Epoch 6/200\n",
      "355/355 [==============================] - 85s 240ms/step - loss: 105007.2031\n",
      "Epoch 7/200\n",
      "355/355 [==============================] - 86s 243ms/step - loss: 91173.0391\n",
      "Epoch 8/200\n",
      "355/355 [==============================] - 86s 242ms/step - loss: 78924.5078\n",
      "Epoch 9/200\n",
      "355/355 [==============================] - 86s 242ms/step - loss: 68900.8438\n",
      "Epoch 10/200\n",
      "355/355 [==============================] - 86s 243ms/step - loss: 60235.8945\n",
      "Epoch 11/200\n",
      "355/355 [==============================] - 86s 243ms/step - loss: 53404.2266\n",
      "Epoch 12/200\n",
      "355/355 [==============================] - 86s 243ms/step - loss: 47567.6016\n",
      "Epoch 13/200\n",
      "355/355 [==============================] - 86s 241ms/step - loss: 42163.1641\n",
      "Epoch 14/200\n",
      "355/355 [==============================] - 86s 243ms/step - loss: 37568.8164\n",
      "Epoch 15/200\n",
      "355/355 [==============================] - 86s 242ms/step - loss: 33851.3945\n",
      "Epoch 16/200\n",
      "355/355 [==============================] - 87s 245ms/step - loss: 30688.1328\n",
      "Epoch 17/200\n",
      "355/355 [==============================] - 87s 244ms/step - loss: 30166.8906\n",
      "Epoch 18/200\n",
      "355/355 [==============================] - 87s 244ms/step - loss: 30202.6035\n",
      "Epoch 19/200\n",
      "355/355 [==============================] - 86s 244ms/step - loss: 27028.6328\n",
      "Epoch 20/200\n",
      "355/355 [==============================] - 87s 244ms/step - loss: 24938.8945\n",
      "Epoch 21/200\n",
      "355/355 [==============================] - 87s 244ms/step - loss: 22458.6523\n",
      "Epoch 22/200\n",
      "355/355 [==============================] - 87s 244ms/step - loss: 21209.8477\n",
      "Epoch 23/200\n",
      "355/355 [==============================] - 87s 244ms/step - loss: 20001.5059\n",
      "Epoch 24/200\n",
      "355/355 [==============================] - 86s 244ms/step - loss: 18954.2598\n",
      "Epoch 25/200\n",
      "355/355 [==============================] - 86s 243ms/step - loss: 19768.3184\n",
      "Epoch 26/200\n",
      "355/355 [==============================] - 87s 244ms/step - loss: 19350.0254\n",
      "Epoch 27/200\n",
      "355/355 [==============================] - 87s 244ms/step - loss: 17732.2656\n",
      "Epoch 28/200\n",
      "355/355 [==============================] - 87s 244ms/step - loss: 20181.8770\n",
      "Epoch 29/200\n",
      "355/355 [==============================] - 86s 243ms/step - loss: 17901.3086\n",
      "Epoch 30/200\n",
      "355/355 [==============================] - 87s 245ms/step - loss: 17870.6172\n",
      "Epoch 31/200\n",
      "355/355 [==============================] - 86s 244ms/step - loss: 17872.0840\n",
      "Epoch 32/200\n",
      "355/355 [==============================] - 87s 246ms/step - loss: 16179.4707\n",
      "Epoch 33/200\n",
      "355/355 [==============================] - 86s 243ms/step - loss: 16553.3027\n",
      "Epoch 34/200\n",
      "355/355 [==============================] - 87s 244ms/step - loss: 15898.2832\n",
      "Epoch 35/200\n",
      "355/355 [==============================] - 87s 244ms/step - loss: 15822.8711\n",
      "Epoch 36/200\n",
      "355/355 [==============================] - 87s 244ms/step - loss: 16167.2979\n",
      "Epoch 37/200\n",
      "355/355 [==============================] - 87s 244ms/step - loss: 16573.6777\n",
      "Epoch 38/200\n",
      "355/355 [==============================] - 87s 244ms/step - loss: 15523.1826\n",
      "Epoch 39/200\n",
      "355/355 [==============================] - 87s 244ms/step - loss: 17882.8359\n",
      "Epoch 40/200\n",
      "355/355 [==============================] - 87s 245ms/step - loss: 16741.8340\n",
      "Epoch 41/200\n",
      "355/355 [==============================] - 87s 244ms/step - loss: 15843.2168\n",
      "Epoch 42/200\n",
      "355/355 [==============================] - 87s 245ms/step - loss: 26936.8301\n",
      "Epoch 43/200\n",
      "355/355 [==============================] - 87s 245ms/step - loss: 23460.0449\n",
      "Epoch 44/200\n",
      "355/355 [==============================] - 87s 244ms/step - loss: 18725.1973\n",
      "Epoch 45/200\n",
      "355/355 [==============================] - 87s 245ms/step - loss: 16768.8633\n",
      "Epoch 46/200\n",
      "355/355 [==============================] - 87s 244ms/step - loss: 14928.2881\n",
      "Epoch 47/200\n",
      "355/355 [==============================] - 87s 244ms/step - loss: 15464.2520\n",
      "Epoch 48/200\n",
      "355/355 [==============================] - 87s 245ms/step - loss: 32065.4082\n",
      "Epoch 49/200\n",
      "355/355 [==============================] - 87s 245ms/step - loss: 21925.6562\n",
      "Epoch 50/200\n",
      "355/355 [==============================] - 87s 244ms/step - loss: 17638.7793\n",
      "Epoch 51/200\n",
      "355/355 [==============================] - 87s 245ms/step - loss: 16479.7266\n",
      "Epoch 52/200\n",
      "355/355 [==============================] - 87s 245ms/step - loss: 15869.1348\n",
      "Epoch 53/200\n",
      "355/355 [==============================] - 86s 243ms/step - loss: 14856.4199\n",
      "Epoch 54/200\n",
      "355/355 [==============================] - 87s 244ms/step - loss: 13685.3555\n",
      "Epoch 55/200\n",
      "355/355 [==============================] - 86s 242ms/step - loss: 13926.5342\n",
      "Epoch 56/200\n",
      "355/355 [==============================] - 86s 243ms/step - loss: 13373.4707\n",
      "Epoch 57/200\n",
      "355/355 [==============================] - 86s 243ms/step - loss: 22051.9219\n",
      "Epoch 58/200\n",
      "355/355 [==============================] - 86s 243ms/step - loss: 16564.4336\n",
      "Epoch 59/200\n",
      "355/355 [==============================] - 86s 243ms/step - loss: 14423.4062\n",
      "Epoch 60/200\n",
      "355/355 [==============================] - 86s 244ms/step - loss: 18453.6523\n",
      "Epoch 61/200\n",
      "355/355 [==============================] - 86s 243ms/step - loss: 15847.4717\n",
      "Epoch 62/200\n",
      "355/355 [==============================] - 87s 244ms/step - loss: 14006.2812\n",
      "Epoch 63/200\n",
      "355/355 [==============================] - 86s 243ms/step - loss: 15673.4092\n",
      "Epoch 64/200\n",
      "355/355 [==============================] - 86s 243ms/step - loss: 13115.6367\n",
      "Epoch 65/200\n",
      "355/355 [==============================] - 86s 243ms/step - loss: 11872.2480\n",
      "Epoch 66/200\n",
      "355/355 [==============================] - 87s 244ms/step - loss: 10776.0996\n",
      "Epoch 67/200\n",
      "355/355 [==============================] - 86s 243ms/step - loss: 11746.6387\n",
      "Epoch 68/200\n",
      "355/355 [==============================] - 86s 243ms/step - loss: 10132.7959\n",
      "Epoch 69/200\n",
      "355/355 [==============================] - 88s 247ms/step - loss: 10326.9287\n",
      "Epoch 70/200\n",
      "355/355 [==============================] - 87s 246ms/step - loss: 11797.7402\n",
      "Epoch 71/200\n",
      "355/355 [==============================] - 86s 242ms/step - loss: 10595.0840\n",
      "Epoch 72/200\n",
      "355/355 [==============================] - 86s 242ms/step - loss: 10561.4824\n",
      "Epoch 73/200\n",
      "355/355 [==============================] - 86s 242ms/step - loss: 9966.9658\n",
      "Epoch 74/200\n",
      "355/355 [==============================] - 87s 246ms/step - loss: 12471.1260\n",
      "Epoch 75/200\n",
      "355/355 [==============================] - 86s 243ms/step - loss: 10601.0596\n",
      "Epoch 76/200\n",
      "355/355 [==============================] - 87s 245ms/step - loss: 10646.1016\n",
      "Epoch 77/200\n",
      "355/355 [==============================] - 87s 245ms/step - loss: 19567.8809\n",
      "Epoch 78/200\n",
      "355/355 [==============================] - 87s 246ms/step - loss: 17153.8418\n",
      "Epoch 79/200\n",
      "355/355 [==============================] - 86s 243ms/step - loss: 13362.8652\n",
      "Epoch 80/200\n",
      "355/355 [==============================] - 87s 244ms/step - loss: 12681.8086\n",
      "Epoch 81/200\n",
      "355/355 [==============================] - 86s 243ms/step - loss: 14903.9199\n",
      "Epoch 82/200\n",
      "355/355 [==============================] - 86s 242ms/step - loss: 11729.7773\n",
      "Epoch 83/200\n",
      "355/355 [==============================] - 86s 243ms/step - loss: 12381.1914\n",
      "Epoch 84/200\n",
      "355/355 [==============================] - 86s 243ms/step - loss: 12114.9482\n",
      "Epoch 85/200\n",
      "355/355 [==============================] - 86s 242ms/step - loss: 12279.0439\n",
      "Epoch 86/200\n",
      "355/355 [==============================] - 87s 244ms/step - loss: 11882.1758\n",
      "Epoch 87/200\n",
      "355/355 [==============================] - 86s 243ms/step - loss: 15676.9414\n",
      "Epoch 88/200\n",
      "355/355 [==============================] - 87s 244ms/step - loss: 15503.8994\n",
      "Epoch 89/200\n",
      "355/355 [==============================] - 86s 242ms/step - loss: 12843.8848\n",
      "Epoch 90/200\n",
      "355/355 [==============================] - 86s 243ms/step - loss: 11902.6426\n",
      "Epoch 91/200\n",
      "355/355 [==============================] - 86s 243ms/step - loss: 12639.4160\n",
      "Epoch 92/200\n"
     ]
    },
    {
     "name": "stdout",
     "output_type": "stream",
     "text": [
      "355/355 [==============================] - 86s 242ms/step - loss: 19207.2773\n",
      "Epoch 93/200\n",
      "355/355 [==============================] - 85s 240ms/step - loss: 12731.0449\n",
      "Epoch 94/200\n",
      "355/355 [==============================] - 86s 242ms/step - loss: 11919.0732\n",
      "Epoch 95/200\n",
      "355/355 [==============================] - 86s 242ms/step - loss: 10470.4941\n",
      "Epoch 96/200\n",
      "355/355 [==============================] - 85s 240ms/step - loss: 9414.4766\n",
      "Epoch 97/200\n",
      "355/355 [==============================] - 86s 242ms/step - loss: 12270.3486\n",
      "Epoch 98/200\n",
      "355/355 [==============================] - 86s 241ms/step - loss: 12271.9873\n",
      "Epoch 99/200\n",
      "355/355 [==============================] - 86s 242ms/step - loss: 10344.9912\n",
      "Epoch 100/200\n",
      "355/355 [==============================] - 86s 241ms/step - loss: 10005.1406\n",
      "Epoch 101/200\n",
      "355/355 [==============================] - 86s 242ms/step - loss: 10221.9307\n",
      "Epoch 102/200\n",
      "355/355 [==============================] - 86s 241ms/step - loss: 11396.6846\n",
      "Epoch 103/200\n",
      "355/355 [==============================] - 86s 241ms/step - loss: 9442.3789\n",
      "Epoch 104/200\n",
      "355/355 [==============================] - 86s 241ms/step - loss: 10815.8008\n",
      "Epoch 105/200\n",
      "355/355 [==============================] - 86s 242ms/step - loss: 10556.8945\n",
      "Epoch 106/200\n",
      "355/355 [==============================] - 85s 241ms/step - loss: 9115.7354\n",
      "Epoch 107/200\n",
      "355/355 [==============================] - 86s 242ms/step - loss: 12773.4580\n",
      "Epoch 108/200\n",
      "355/355 [==============================] - 86s 242ms/step - loss: 13880.3721\n",
      "Epoch 109/200\n",
      "355/355 [==============================] - 86s 242ms/step - loss: 16454.9766\n",
      "Epoch 110/200\n",
      "355/355 [==============================] - 86s 241ms/step - loss: 10659.2520\n",
      "Epoch 111/200\n",
      "355/355 [==============================] - 86s 241ms/step - loss: 14139.8115\n",
      "Epoch 112/200\n",
      "355/355 [==============================] - 86s 242ms/step - loss: 9598.2129\n",
      "Epoch 113/200\n",
      "355/355 [==============================] - 86s 241ms/step - loss: 10227.3564\n",
      "Epoch 114/200\n",
      "355/355 [==============================] - 86s 241ms/step - loss: 10650.2793\n",
      "Epoch 115/200\n",
      "355/355 [==============================] - 86s 243ms/step - loss: 13136.0566\n",
      "Epoch 116/200\n",
      "355/355 [==============================] - 86s 243ms/step - loss: 18214.3711\n",
      "Epoch 117/200\n",
      "355/355 [==============================] - 86s 242ms/step - loss: 15325.3623\n",
      "Epoch 118/200\n",
      "355/355 [==============================] - 86s 241ms/step - loss: 11965.5977\n",
      "Epoch 119/200\n",
      "355/355 [==============================] - 86s 242ms/step - loss: 10077.1494\n",
      "Epoch 120/200\n",
      "355/355 [==============================] - 86s 242ms/step - loss: 11452.9238\n",
      "Epoch 121/200\n",
      "355/355 [==============================] - 86s 242ms/step - loss: 14189.2266\n",
      "Epoch 122/200\n",
      "355/355 [==============================] - 88s 247ms/step - loss: 10467.6152\n",
      "Epoch 123/200\n",
      "355/355 [==============================] - 89s 251ms/step - loss: 8615.5078\n",
      "Epoch 124/200\n",
      "355/355 [==============================] - 89s 251ms/step - loss: 8808.3320\n",
      "Epoch 125/200\n",
      "355/355 [==============================] - 89s 251ms/step - loss: 7305.6948\n",
      "Epoch 126/200\n",
      "355/355 [==============================] - 89s 250ms/step - loss: 7065.7231\n",
      "Epoch 127/200\n",
      "355/355 [==============================] - 89s 251ms/step - loss: 6921.7153\n",
      "Epoch 128/200\n",
      "355/355 [==============================] - 89s 251ms/step - loss: 8693.1748\n",
      "Epoch 129/200\n",
      "355/355 [==============================] - 89s 249ms/step - loss: 9059.7734\n",
      "Epoch 130/200\n",
      "355/355 [==============================] - 89s 252ms/step - loss: 7581.3579\n",
      "Epoch 131/200\n",
      "355/355 [==============================] - 89s 251ms/step - loss: 7481.4722\n",
      "Epoch 132/200\n",
      "355/355 [==============================] - 89s 251ms/step - loss: 9015.3418\n",
      "Epoch 133/200\n",
      "355/355 [==============================] - 89s 251ms/step - loss: 9080.0762\n",
      "Epoch 134/200\n",
      "355/355 [==============================] - 89s 251ms/step - loss: 8072.3643\n",
      "Epoch 135/200\n",
      "355/355 [==============================] - 89s 251ms/step - loss: 12357.9736\n",
      "Epoch 136/200\n",
      "355/355 [==============================] - 89s 251ms/step - loss: 12218.2998\n",
      "Epoch 137/200\n",
      "355/355 [==============================] - 89s 250ms/step - loss: 9269.6025\n",
      "Epoch 138/200\n",
      "355/355 [==============================] - 89s 251ms/step - loss: 7409.1948\n",
      "Epoch 139/200\n",
      "355/355 [==============================] - 89s 252ms/step - loss: 7444.3403\n",
      "Epoch 140/200\n",
      "355/355 [==============================] - 89s 251ms/step - loss: 8177.6860\n",
      "Epoch 141/200\n",
      "355/355 [==============================] - 89s 250ms/step - loss: 7509.2373\n",
      "Epoch 142/200\n",
      "355/355 [==============================] - 89s 251ms/step - loss: 8306.3750\n",
      "Epoch 143/200\n",
      "355/355 [==============================] - 89s 252ms/step - loss: 9123.3809\n",
      "Epoch 144/200\n",
      "355/355 [==============================] - 89s 251ms/step - loss: 7292.4473\n",
      "Epoch 145/200\n",
      "355/355 [==============================] - 89s 251ms/step - loss: 5853.3081\n",
      "Epoch 146/200\n",
      "355/355 [==============================] - 89s 252ms/step - loss: 5812.5474\n",
      "Epoch 147/200\n",
      "355/355 [==============================] - 89s 251ms/step - loss: 10647.0303\n",
      "Epoch 148/200\n",
      "355/355 [==============================] - 89s 251ms/step - loss: 6145.6733\n",
      "Epoch 149/200\n",
      "355/355 [==============================] - 89s 251ms/step - loss: 7888.3120\n",
      "Epoch 150/200\n",
      "355/355 [==============================] - 89s 252ms/step - loss: 6100.5508\n",
      "Epoch 151/200\n",
      "355/355 [==============================] - 89s 251ms/step - loss: 5854.2173\n",
      "Epoch 152/200\n",
      "355/355 [==============================] - 89s 250ms/step - loss: 8831.6445\n",
      "Epoch 153/200\n",
      "355/355 [==============================] - 89s 252ms/step - loss: 7299.0059\n",
      "Epoch 154/200\n",
      "355/355 [==============================] - 89s 251ms/step - loss: 7006.8130\n",
      "Epoch 155/200\n",
      "355/355 [==============================] - 89s 251ms/step - loss: 10290.2227\n",
      "Epoch 156/200\n",
      "355/355 [==============================] - 89s 252ms/step - loss: 13320.3926\n",
      "Epoch 157/200\n",
      "355/355 [==============================] - 88s 249ms/step - loss: 9879.5010\n",
      "Epoch 158/200\n",
      "355/355 [==============================] - 88s 248ms/step - loss: 11965.6191\n",
      "Epoch 159/200\n",
      "355/355 [==============================] - 88s 249ms/step - loss: 8366.8184\n",
      "Epoch 160/200\n",
      "355/355 [==============================] - 88s 248ms/step - loss: 6717.3262\n",
      "Epoch 161/200\n",
      "355/355 [==============================] - 88s 248ms/step - loss: 6177.4023\n",
      "Epoch 162/200\n",
      "355/355 [==============================] - 88s 248ms/step - loss: 6236.8667\n",
      "Epoch 163/200\n",
      "355/355 [==============================] - 88s 248ms/step - loss: 5957.7534\n",
      "Epoch 164/200\n",
      "355/355 [==============================] - 89s 249ms/step - loss: 5755.9829\n",
      "Epoch 165/200\n",
      "355/355 [==============================] - 88s 249ms/step - loss: 5276.8223\n",
      "Epoch 166/200\n",
      "355/355 [==============================] - 88s 249ms/step - loss: 8106.2856\n",
      "Epoch 167/200\n",
      "355/355 [==============================] - 88s 248ms/step - loss: 5540.8911\n",
      "Epoch 168/200\n",
      "355/355 [==============================] - 88s 248ms/step - loss: 11902.1172\n",
      "Epoch 169/200\n",
      "355/355 [==============================] - 88s 249ms/step - loss: 12341.1543\n",
      "Epoch 170/200\n",
      "355/355 [==============================] - 88s 248ms/step - loss: 10672.3623\n",
      "Epoch 171/200\n",
      "355/355 [==============================] - 88s 248ms/step - loss: 7683.1055\n",
      "Epoch 172/200\n",
      "355/355 [==============================] - 88s 249ms/step - loss: 6001.6626\n",
      "Epoch 173/200\n",
      "355/355 [==============================] - 88s 247ms/step - loss: 7468.3750\n",
      "Epoch 174/200\n",
      "355/355 [==============================] - 88s 249ms/step - loss: 6406.6284\n",
      "Epoch 175/200\n",
      "355/355 [==============================] - 88s 248ms/step - loss: 5186.0532\n",
      "Epoch 176/200\n",
      "355/355 [==============================] - 88s 249ms/step - loss: 6156.0166\n",
      "Epoch 177/200\n",
      "355/355 [==============================] - 88s 249ms/step - loss: 11346.7285\n",
      "Epoch 178/200\n",
      "355/355 [==============================] - 88s 248ms/step - loss: 8577.9404\n",
      "Epoch 179/200\n",
      "355/355 [==============================] - 88s 248ms/step - loss: 8635.9336\n",
      "Epoch 180/200\n",
      "355/355 [==============================] - 88s 248ms/step - loss: 7110.4829\n",
      "Epoch 181/200\n",
      "355/355 [==============================] - 88s 248ms/step - loss: 7713.1836\n",
      "Epoch 182/200\n",
      "355/355 [==============================] - 88s 247ms/step - loss: 6393.6704\n",
      "Epoch 183/200\n",
      "355/355 [==============================] - 88s 249ms/step - loss: 5988.4937\n",
      "Epoch 184/200\n",
      "355/355 [==============================] - 88s 248ms/step - loss: 6288.0762\n",
      "Epoch 185/200\n",
      "355/355 [==============================] - 88s 249ms/step - loss: 7190.7808\n",
      "Epoch 186/200\n",
      "355/355 [==============================] - 88s 248ms/step - loss: 6028.2178\n",
      "Epoch 187/200\n",
      "355/355 [==============================] - 88s 249ms/step - loss: 15019.5215\n",
      "Epoch 188/200\n",
      "355/355 [==============================] - 88s 248ms/step - loss: 8617.4697\n",
      "Epoch 189/200\n",
      "355/355 [==============================] - 89s 250ms/step - loss: 7174.9756\n",
      "Epoch 190/200\n",
      "355/355 [==============================] - 88s 248ms/step - loss: 5784.7285\n",
      "Epoch 191/200\n",
      "355/355 [==============================] - 88s 248ms/step - loss: 5641.5522\n",
      "Epoch 192/200\n",
      "355/355 [==============================] - 88s 248ms/step - loss: 8567.9033\n",
      "Epoch 193/200\n",
      "355/355 [==============================] - 88s 248ms/step - loss: 8925.4111\n",
      "Epoch 194/200\n",
      "355/355 [==============================] - 88s 249ms/step - loss: 5109.0288\n",
      "Epoch 195/200\n",
      "355/355 [==============================] - 88s 248ms/step - loss: 5552.0151\n",
      "Epoch 196/200\n",
      "355/355 [==============================] - 88s 249ms/step - loss: 5927.8823\n",
      "Epoch 197/200\n",
      "355/355 [==============================] - 88s 249ms/step - loss: 4778.8608\n",
      "Epoch 198/200\n",
      "355/355 [==============================] - 88s 248ms/step - loss: 5004.6255\n",
      "Epoch 199/200\n",
      "355/355 [==============================] - 88s 249ms/step - loss: 9875.2021\n",
      "Epoch 200/200\n",
      "355/355 [==============================] - 88s 248ms/step - loss: 6993.3428\n"
     ]
    },
    {
     "data": {
      "text/plain": [
       "<tensorflow.python.keras.callbacks.History at 0x7f2f246eac40>"
      ]
     },
     "execution_count": 46,
     "metadata": {},
     "output_type": "execute_result"
    }
   ],
   "source": [
    "model.fit(X, y, epochs=200, verbose=1)"
   ]
  },
  {
   "cell_type": "code",
   "execution_count": 49,
   "metadata": {},
   "outputs": [],
   "source": [
    "model_json = model.to_json()\n",
    "with open(\"model.json\", \"w\") as json_file:\n",
    "    json_file.write(model_json)"
   ]
  },
  {
   "cell_type": "code",
   "execution_count": 50,
   "metadata": {},
   "outputs": [],
   "source": [
    "# serialize weights to HDF5\n",
    "model.save_weights(\"model.h5\")"
   ]
  },
  {
   "cell_type": "code",
   "execution_count": 66,
   "metadata": {},
   "outputs": [],
   "source": [
    "to_split = np.array(dataset.iloc[14478:17486, ])\n",
    "X, y = split_sequences(to_split, n_steps_in, n_steps_out)"
   ]
  },
  {
   "cell_type": "code",
   "execution_count": 73,
   "metadata": {},
   "outputs": [
    {
     "name": "stderr",
     "output_type": "stream",
     "text": [
      "100%|██████████| 2937/2937 [01:18<00:00, 37.59it/s]\n"
     ]
    }
   ],
   "source": [
    "observeds = []\n",
    "predictions = []\n",
    "count=1\n",
    "\n",
    "test_len = len(X)\n",
    "for i in tqdm(range(test_len)):\n",
    "    \n",
    "    x = X[i].reshape((1, n_steps_in, n_features))\n",
    "    predicted = model.predict(x, verbose=0).flatten()\n",
    "    observed = y[i]\n",
    "    \n",
    "    observeds.append(observed)\n",
    "    predictions.append(predicted)"
   ]
  },
  {
   "cell_type": "code",
   "execution_count": 79,
   "metadata": {},
   "outputs": [],
   "source": [
    "win_24_pred = []\n",
    "for pred in predictions:\n",
    "    win_24_pred.append(pred[23])\n",
    "\n",
    "win_24_obs = []\n",
    "for obs in observeds:\n",
    "    win_24_obs.append(obs[23])"
   ]
  },
  {
   "cell_type": "code",
   "execution_count": 82,
   "metadata": {},
   "outputs": [
    {
     "data": {
      "text/plain": [
       "[<matplotlib.lines.Line2D at 0x7f2eec7167f0>]"
      ]
     },
     "execution_count": 82,
     "metadata": {},
     "output_type": "execute_result"
    },
    {
     "data": {
      "image/png": "[encoded data removed]",
      "text/plain": [
       "<Figure size 432x288 with 1 Axes>"
      ]
     },
     "metadata": {
      "needs_background": "light"
     },
     "output_type": "display_data"
    }
   ],
   "source": [
    "plt.plot(win_24_obs)\n",
    "plt.plot(win_24_pred)"
   ]
  },
  {
   "cell_type": "code",
   "execution_count": 81,
   "metadata": {},
   "outputs": [
    {
     "data": {
      "text/plain": [
       "0.8986701249471573"
      ]
     },
     "execution_count": 81,
     "metadata": {},
     "output_type": "execute_result"
    }
   ],
   "source": [
    "get_nash(win_24_obs,win_24_pred)"
   ]
  },
  {
   "cell_type": "code",
   "execution_count": 84,
   "metadata": {},
   "outputs": [],
   "source": [
    "with open('obs.pkl', 'wb') as f:\n",
    "    pickle.dump(observeds, f)\n",
    "    \n",
    "with open('pred.pkl', 'wb') as f:\n",
    "    pickle.dump(predictions, f)"
   ]
  },
  {
   "cell_type": "code",
   "execution_count": 8,
   "metadata": {},
   "outputs": [
    {
     "name": "stdout",
     "output_type": "stream",
     "text": [
      "Loaded model from disk\n"
     ]
    }
   ],
   "source": [
    "# load json and create model\n",
    "json_file = open('model.json', 'r')\n",
    "loaded_model_json = json_file.read()\n",
    "json_file.close()\n",
    "loaded_model = model_from_json(loaded_model_json)\n",
    "# load weights into new model\n",
    "loaded_model.load_weights(\"model.h5\")\n",
    "print(\"Loaded model from disk\")"
   ]
  },
  {
   "cell_type": "code",
   "execution_count": 20,
   "metadata": {},
   "outputs": [],
   "source": [
    "with open('obs.pkl', 'rb') as f:\n",
    "    observations = pickle.load(f)\n",
    "    \n",
    "with open('pred.pkl', 'rb') as f:\n",
    "    predictions = pickle.load(f)"
   ]
  },
  {
   "cell_type": "code",
   "execution_count": 21,
   "metadata": {},
   "outputs": [],
   "source": [
    "win_1_pred = []\n",
    "for pred in predictions:\n",
    "    win_1_pred.append(pred[0])\n",
    "\n",
    "win_1_obs = []\n",
    "for obs in observations:\n",
    "    win_1_obs.append(obs[0])"
   ]
  },
  {
   "cell_type": "code",
   "execution_count": 24,
   "metadata": {},
   "outputs": [
    {
     "data": {
      "text/plain": [
       "0.9891361903775648"
      ]
     },
     "execution_count": 24,
     "metadata": {},
     "output_type": "execute_result"
    }
   ],
   "source": [
    "get_nash(win_1_obs, win_1_pred)"
   ]
  },
  {
   "cell_type": "code",
   "execution_count": 26,
   "metadata": {},
   "outputs": [
    {
     "data": {
      "text/plain": [
       "[<matplotlib.lines.Line2D at 0x7fd6e3d3fac0>]"
      ]
     },
     "execution_count": 26,
     "metadata": {},
     "output_type": "execute_result"
    },
    {
     "data": {
      "image/png": "[encoded data removed]",
      "text/plain": [
       "<Figure size 432x288 with 1 Axes>"
      ]
     },
     "metadata": {
      "needs_background": "light"
     },
     "output_type": "display_data"
    }
   ],
   "source": [
    "plt.plot(win_1_obs)\n",
    "plt.plot(win_1_pred)"
   ]
  },
  {
   "cell_type": "code",
   "execution_count": null,
   "metadata": {},
   "outputs": [],
   "source": []
  }
 ],
 "metadata": {
  "kernelspec": {
   "display_name": "Python 3",
   "language": "python",
   "name": "python3"
  },
  "language_info": {
   "codemirror_mode": {
    "name": "ipython",
    "version": 3
   },
   "file_extension": ".py",
   "mimetype": "text/x-python",
   "name": "python",
   "nbconvert_exporter": "python",
   "pygments_lexer": "ipython3",
   "version": "3.8.2"
  }
 },
 "nbformat": 4,
 "nbformat_minor": 4
}
