{
 "cells": [
  {
   "cell_type": "code",
   "execution_count": 2,
   "metadata": {},
   "outputs": [],
   "source": [
    "import sys\n",
    "sys.path.append('../resources/')\n",
    "\n",
    "from get_data import stations\n",
    "\n",
    "import pandas as pd\n",
    "import numpy as np\n",
    "\n",
    "\n",
    "def get_time_series_for_window(start_date, end_date, station, dataframe):\n",
    "    return dataframe.loc[start_date:end_date, [station]]\n",
    "\n",
    "\n",
    "def check_nan_values(dataframe):\n",
    "    return dataframe.isnull().values.any()\n",
    "\n",
    "\n",
    "def get_valid_sequences(df):\n",
    "    valid_sequences = []\n",
    "    starting_idx = 0\n",
    "\n",
    "    for i, (_, row) in enumerate(df.iterrows()):\n",
    "        flow = row[0]\n",
    "\n",
    "        if np.isnan(flow):\n",
    "\n",
    "            if starting_idx < i-1:\n",
    "                valid_sequences.append((starting_idx, i))\n",
    "                starting_idx = i+1\n",
    "            else:\n",
    "                starting_idx = i+1\n",
    "                continue\n",
    "    return valid_sequences\n",
    "\n",
    "\n",
    "def valid_seqs_minimum_len(valid_seqs, seq_len):\n",
    "    \n",
    "    valid_seqs_min_len = []\n",
    "    pops = []\n",
    "    for i, (start, end) in enumerate(valid_seqs):\n",
    "        if end - start >= seq_len:\n",
    "            valid_seqs_min_len.append((start, end))\n",
    "\n",
    "    return valid_seqs_min_len"
   ]
  },
  {
   "cell_type": "code",
   "execution_count": 3,
   "metadata": {},
   "outputs": [
    {
     "name": "stderr",
     "output_type": "stream",
     "text": [
      "100%|██████████████████████████████████████████████████████████████████████████████████| 16/16 [00:36<00:00,  2.31s/it]\n"
     ]
    }
   ],
   "source": [
    "interested_stations = ['13180000', '13300000', '13405000', '13410000', '13450000', '13470000', '13550000', '13600002', \n",
    "'13650000', '13710001', '13740000', '13750000', '13870000', '13880000', '13885000', '13886000']\n",
    "\n",
    "df, nodata = stations(interested_stations, '3')"
   ]
  },
  {
   "cell_type": "code",
   "execution_count": 4,
   "metadata": {},
   "outputs": [],
   "source": [
    "df1 = get_time_series_for_window('2000-01-01', '2015-12-31', '13450000', df)\n",
    "valid_sequences = get_valid_sequences(df1)\n",
    "\n",
    "val_seq = valid_seqs_minimum_len(valid_sequences, 31)"
   ]
  },
  {
   "cell_type": "code",
   "execution_count": 5,
   "metadata": {},
   "outputs": [
    {
     "data": {
      "text/plain": [
       "array([107.16  , 126.767 , 135.642 ,  93.6859,  73.7563,  56.0816,\n",
       "        57.4118,  70.0399, 197.75  , 120.533 , 160.141 , 256.344 ,\n",
       "       135.141 , 106.712 , 388.098 , 606.403 , 423.299 , 206.205 ,\n",
       "       399.672 , 264.512 ,  65.6996, 152.643 , 135.141 ,  97.0816,\n",
       "        88.6989,  76.0295,  69.3074,  60.8012,  56.7449,  99.6657,\n",
       "        85.4456,  64.9889,  70.7759,  64.9889,  74.5104, 108.509 ,\n",
       "        49.0285,  17.3798,  14.4554,  11.7855,   6.972 ,  65.6996,\n",
       "        97.0816,  44.7728,  31.5709,  14.8071,   7.998 ,  25.3297,\n",
       "       140.185 , 441.437 , 674.965 , 184.8   , 167.807 , 166.701 ,\n",
       "       254.995 , 477.879 , 173.385 , 118.644 ,  87.8802, 130.184 ,\n",
       "       159.059 , 197.75  , 209.265 , 179.05  , 256.344 , 334.928 ,\n",
       "       418.182 , 481.507 , 401.338 , 195.365 ,  81.4595, 203.772 ,\n",
       "       147.392 ,  84.6412,  22.6678, 672.837 , 338.768 , 241.684 ,\n",
       "       655.924 , 373.452 , 328.067 , 931.952 , 706.18  , 463.496 ,\n",
       "       380.742 , 149.482 , 140.185 , 163.405 , 354.337 , 142.227 ,\n",
       "        74.5104,  95.3766, 113.063 , 163.952 , 658.027 , 608.43  ,\n",
       "       229.35  , 144.282 ,  99.6657,  43.0046,   5.6698,  19.1356,\n",
       "         8.6728,   8.6728,  13.0884,   9.9519, 130.184 ,  88.6989,\n",
       "        73.0058,  61.4901,  59.4345,  51.5417,  43.5903,  21.8114,\n",
       "        26.2478,  19.7385,  14.8071,   7.998 ,  11.3134,  13.7639,\n",
       "        19.7385,  22.0241,  25.3297,  17.3798,  24.8764,  26.2478,\n",
       "        15.1627,  12.7566,  19.7385, 162.314 , 233.859 , 291.167 ,\n",
       "       360.656 , 226.155 , 148.435 ,  72.2589,  28.8517,  25.5578,\n",
       "        27.1813, 204.379 , 206.205 , 133.148 , 144.282 , 155.301 ,\n",
       "        81.0658,  43.8845,  21.8114,  17.571 ,  12.4289,  11.1581,\n",
       "        10.0992,  11.1581,  15.1627,  15.1627,  11.4698,  10.5469,\n",
       "         7.998 ,   8.3998,   6.3644,   6.1287,   5.7829,   5.5577,\n",
       "         5.4467,   5.1199,   5.013 ,   4.699 ,   4.4949,   5.4467,\n",
       "         6.4838,   6.0124,   6.0124,   5.1199,   5.1199,   5.013 ,\n",
       "         4.9073,   4.8026,   4.699 ,   4.699 ,   4.3944,   4.2951,\n",
       "        20.9706,  18.9366,  17.7631,  14.4554,  10.2474,   7.2223,\n",
       "         6.4838,   6.0124,   6.4838,   6.4838,   6.972 ,   6.4838,\n",
       "         6.8484,  11.4698,  32.0777,  55.4221,  84.6412,  92.8458,\n",
       "        92.0093, 166.701 , 141.204 , 103.602 ,  47.7941,  10.0992,\n",
       "        11.4698,   9.9519,   9.2311,   8.8108,   8.3998,   8.1309,\n",
       "         7.8661,   7.6055,   7.4767,   6.972 ,   6.4838,   6.3644,\n",
       "         6.1287,   5.4467,   5.1199,   4.9073,   3.9083,   3.9083,\n",
       "         3.8143,   3.7213,   3.5387,   3.3604,   3.3604,   3.2729,\n",
       "         3.1864,   3.3604,   3.1864,   3.2729,   3.3604,   3.2729,\n",
       "         3.2729,   3.2729,   4.9073,   3.5387,   3.1864,   3.1864,\n",
       "         3.1864,   2.9336,   2.8516,   2.5342,   2.3822,   2.2346,\n",
       "         2.6119,   2.9336,   5.1199,   5.1199,   4.4949,   4.2951,\n",
       "         4.0034,   3.6295,   3.9083,   3.1864,   2.5342,   2.8516,\n",
       "         2.6907,   2.5342,   2.5342,   2.5342,   2.3822,   2.2346,\n",
       "         2.3822,   2.6907,   3.7213,   3.5387,   3.3604,   3.1864,\n",
       "         3.0168,   2.9336,   2.7706,   2.6119,   2.5342,   2.4576,\n",
       "         2.6907,   2.5342,   2.5342,   2.2346,   2.0215,   1.9527,\n",
       "         2.0215,   2.0914,   2.0215,   1.9527,   1.9527,   1.9527,\n",
       "         2.1624,   2.2346,   3.449 ,   3.2729,   3.1864,   3.1864,\n",
       "         3.1864,   3.1864,   3.5387,   3.8143,   3.9083,   3.8143,\n",
       "         3.8143,   3.1011,   5.013 ,   4.8026,   4.9073,   8.5358,\n",
       "         7.2223,   5.4467,   9.6605,   9.09  ,   6.4838,   7.4767,\n",
       "        12.4289,  14.4554,   9.9519,   6.1287,   6.0124,   5.5577,\n",
       "         5.1199,   5.1199,   9.8057,   5.1199,   4.699 ,   4.699 ,\n",
       "         4.2951,   4.2951,   3.5387,   3.5387,   4.2951,   7.2223,\n",
       "         7.998 ,   5.8971,   8.8108,   7.998 ,   7.6055,   7.2223,\n",
       "        22.6678,  15.8859,  13.4242,  14.4554,  15.1627,  16.0692,\n",
       "        14.1076,  12.7566,  13.4242,  19.7385,  18.7386,  29.0941,\n",
       "        29.0941,  28.8517,  34.1426,  79.5   ,  73.0058,  53.4653,\n",
       "        48.4094,  43.5903,  29.5819,  20.3502,  15.1627,  10.8505,\n",
       "         7.7353,   6.972 ,   9.9519,  11.1581,  10.5469,   9.3732,\n",
       "         8.8108,  12.4289,   8.5358,   9.3732,  30.5688,   7.0966,\n",
       "         6.7258,   6.972 ,  12.4289,  14.8071,  21.8114, 274.192 ,\n",
       "        99.6657,  59.4345,  49.0285,  18.9366,  74.5104,  65.6996,\n",
       "        70.0399, 126.282 , 136.143 , 172.263 , 108.509 , 101.843 ,\n",
       "       136.645 , 210.495 ,  74.5104,  24.8764,  19.3356,   9.9519,\n",
       "         8.5358,   9.9519,  11.1581,  10.8505,  11.0038,  10.2474,\n",
       "        10.0992,  12.1052,  15.342 ,  13.4242,  15.8859,  12.5923,\n",
       "         9.8057,   7.4767,  29.5819,  26.7126,  24.8764,  18.5415,\n",
       "        13.4242,  12.4289,  11.7855,  15.1627,  17.0004,  27.1813,\n",
       "        67.8534,  24.6512,  23.7601,  25.1026,  19.9414,  30.0734,\n",
       "        49.964 ,  50.2777,  60.8012,  82.2495,  59.4345,  27.6538,\n",
       "        13.0884,  22.6678,  23.9814,  21.3891,  18.5415,  15.1627,\n",
       "        22.6678,  12.4289,  11.9448,  11.9448,  30.0734, 110.32  ,\n",
       "       340.31  , 208.651 ,  89.5212,  77.5629, 166.701 , 211.111 ,\n",
       "       936.915 , 700.751 , 848.286 , 996.163 , 965.695 , 696.422 ,\n",
       "       554.823 , 320.521 , 187.124 , 162.314 , 284.036 ,  69.3074,\n",
       "        73.3806, 160.141 , 275.588 , 291.167 , 183.066 , 250.966 ,\n",
       "       201.353 , 274.89  , 299.834 , 575.394 , 315.289 , 282.62  ,\n",
       "       267.261 , 233.859 , 182.49  , 130.184 ,  97.0816,  84.6412,\n",
       "        97.9394, 122.913 , 140.185 , 154.768 , 157.981 , 144.282 ,\n",
       "       139.169 , 190.048 , 243.659 , 228.069 , 239.716 , 248.297 ,\n",
       "       257.697 , 213.585 , 186.541 , 204.987 , 241.684 , 292.603 ,\n",
       "       252.306 , 177.91  ,  99.6657,  47.7941,  26.0169,  22.8843,\n",
       "        19.3356,  28.6102,  28.8517,  21.8114,  18.1504,  16.625 ,\n",
       "        15.1627,  15.5223,  24.8764,  29.5819,  30.5688,  32.5883,\n",
       "        34.405 ,  96.654 , 299.834 , 253.648 ,  79.1108,  48.4094,\n",
       "        32.0777,  26.2478,  23.9814,  21.8114,  19.1356,  18.5415,\n",
       "        16.625 ,  15.7037,  14.4554,  13.9353,  13.0884,  12.2665,\n",
       "        10.5469,   8.9499,   8.6728,   8.1309,   7.7353,  16.625 ,\n",
       "        12.5923,   6.0124,   6.4838,   6.1287,   6.972 ,  31.068 ,\n",
       "        95.3766,  80.673 ,  62.8787,  45.9702,  32.0777,  26.2478,\n",
       "        21.8114,  18.7386,  17.3798,  15.8859,  14.8071,  14.1076,\n",
       "        13.4242,  12.4289,  11.4698,  10.5469,   9.9519,   9.5164,\n",
       "         9.09  ,   7.998 ,   6.972 ,   6.246 ,   5.5577,   4.699 ,\n",
       "         4.2951,   4.2951,   4.2951,   4.1968,   4.1968,   4.1968,\n",
       "         4.1968,   3.1864,   3.1864,   3.1864,   3.2729,   3.2729,\n",
       "         3.1864,   3.1864,   3.1864,   3.1864,   3.1864,   5.3367,\n",
       "         3.1864,   3.0168,   2.8516,   2.7706,   2.5342,   2.5342,\n",
       "         2.4576,   2.3822,   2.3078,   2.1624,   2.0914,   2.7706,\n",
       "         2.8516,   2.9336,   3.1011,   3.1864,   3.1864,   3.1864,\n",
       "         3.7213,   4.0034,   4.5964,   4.4949,   4.9073,   5.7829,\n",
       "         5.1199,   4.5964,   4.1968,   3.9083,   3.9083,   3.9083,\n",
       "         3.7213,   3.7213,   3.7213,   3.7213,   3.5387,   3.5387,\n",
       "         3.5387,   3.3604,   3.3604,   3.3604,   3.2729,   3.1864,\n",
       "         3.1864,   3.3604,   3.2729,   3.1864,   3.1864,   3.1864,\n",
       "         3.1864,   3.1864,   3.1864,   3.1864,   3.3604,   3.9083,\n",
       "         3.3604,   3.1864,   3.1864,   3.1864,   3.1864,   3.1864,\n",
       "         3.1864,   4.3944,   4.5964,   4.4949,   4.3944,   3.9083,\n",
       "         3.7213,   3.7213,   3.3604,   3.2729,   3.1864,   3.1864,\n",
       "         3.1864,   3.7213,   3.2729,   4.0995,   4.1968,   6.3644,\n",
       "        12.1052,   6.3644,   4.9073,   6.8484,   4.5964,   3.9083,\n",
       "         3.6295,   3.3604,   3.2729,   3.1864,   3.1864,   3.1864,\n",
       "         3.0168,   3.0168,   2.8516,   3.1864,   3.9083,   4.2951,\n",
       "         4.1968,   3.7213,   4.3944,   4.3944,   7.0966,  13.0884,\n",
       "        11.7855,  10.8505,   9.2311,   8.1309,   6.7258, 160.141 ,\n",
       "        64.9889,  45.3696,  23.1018,  11.3134,   8.2648,   6.8484,\n",
       "         7.2223,   9.5164,  14.6307,   8.3998,   5.3367,   4.4949,\n",
       "         5.6698, 127.739 ,  30.8179,  12.5923,  11.9448,   7.0966,\n",
       "         5.3367,   4.9073,   4.0995,   4.8026,   4.5964,   4.5964,\n",
       "        18.5415,  35.731 ,  20.7628,  12.2665,  12.4289,   5.8971,\n",
       "       129.204 , 134.641 ,  46.5744,  22.2377,  14.1076,  33.3612,\n",
       "        10.8505,  15.1627,  78.7225,  97.5101,  36.268 ,  34.1426,\n",
       "        39.0094,  20.3502,  12.922 ,  11.1581,  13.5935,  13.9353,\n",
       "        12.2665,   6.8484,   6.6043,   6.8484, 161.225 ,  99.6657,\n",
       "        37.3533, 173.948 , 125.315 ,  83.8404,  51.2243,  30.0734,\n",
       "        22.2377,  14.4554,  10.8505,   9.5164,   7.2223,  10.2474,\n",
       "        66.4139,  24.6512,  14.4554,  23.7601,  15.342 ])"
      ]
     },
     "execution_count": 5,
     "metadata": {},
     "output_type": "execute_result"
    }
   ],
   "source": [
    "start, end = val_seq[1]\n",
    "np.squeeze(np.array(df1.iloc[start:end, :]))"
   ]
  },
  {
   "cell_type": "code",
   "execution_count": 6,
   "metadata": {},
   "outputs": [],
   "source": [
    "from matplotlib import pyplot "
   ]
  },
  {
   "cell_type": "code",
   "execution_count": 7,
   "metadata": {},
   "outputs": [
    {
     "data": {
      "text/plain": [
       "<matplotlib.axes._subplots.AxesSubplot at 0x20efa809388>"
      ]
     },
     "execution_count": 7,
     "metadata": {},
     "output_type": "execute_result"
    },
    {
     "data": {
      "image/png": "[encoded data removed]",
      "text/plain": [
       "<Figure size 432x288 with 1 Axes>"
      ]
     },
     "metadata": {
      "needs_background": "light"
     },
     "output_type": "display_data"
    }
   ],
   "source": [
    "df1.iloc[start:end, :].plot()"
   ]
  },
  {
   "cell_type": "code",
   "execution_count": 14,
   "metadata": {},
   "outputs": [
    {
     "data": {
      "text/plain": [
       "[<matplotlib.lines.Line2D at 0x20efabe25c8>]"
      ]
     },
     "execution_count": 14,
     "metadata": {},
     "output_type": "execute_result"
    },
    {
     "data": {
      "image/png": "[encoded data removed]",
      "text/plain": [
       "<Figure size 432x288 with 1 Axes>"
      ]
     },
     "metadata": {
      "needs_background": "light"
     },
     "output_type": "display_data"
    }
   ],
   "source": [
    "import matplotlib.pyplot as plt\n",
    "plt.plot(np.squeeze(np.array(df1.iloc[start:start+30, :])))\n",
    "plt.plot(np.squeeze(np.array(df1.iloc[start:start+30, :])+50))"
   ]
  },
  {
   "cell_type": "code",
   "execution_count": 15,
   "metadata": {},
   "outputs": [
    {
     "data": {
      "text/plain": [
       "[(0, 2122),\n",
       " (2155, 2922),\n",
       " (3274, 3353),\n",
       " (3487, 3528),\n",
       " (3774, 4429),\n",
       " (4432, 4837),\n",
       " (4930, 5074),\n",
       " (5285, 5510)]"
      ]
     },
     "execution_count": 15,
     "metadata": {},
     "output_type": "execute_result"
    }
   ],
   "source": [
    "val_seq"
   ]
  },
  {
   "cell_type": "code",
   "execution_count": null,
   "metadata": {},
   "outputs": [],
   "source": []
  }
 ],
 "metadata": {
  "kernelspec": {
   "display_name": "Python 3",
   "language": "python",
   "name": "python3"
  },
  "language_info": {
   "codemirror_mode": {
    "name": "ipython",
    "version": 3
   },
   "file_extension": ".py",
   "mimetype": "text/x-python",
   "name": "python",
   "nbconvert_exporter": "python",
   "pygments_lexer": "ipython3",
   "version": "3.7.7"
  }
 },
 "nbformat": 4,
 "nbformat_minor": 4
}
