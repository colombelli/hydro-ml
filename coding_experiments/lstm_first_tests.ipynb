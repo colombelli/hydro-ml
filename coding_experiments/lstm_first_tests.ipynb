{
 "cells": [
  {
   "cell_type": "code",
   "execution_count": 125,
   "metadata": {},
   "outputs": [],
   "source": [
    "from tensorflow.keras.preprocessing import sequence\n",
    "from tensorflow.keras.models import Sequential\n",
    "from tensorflow.keras.layers import Dense\n",
    "from tensorflow.keras.layers import LSTM\n",
    "\n",
    "import pandas as pd\n",
    "import numpy as np\n",
    "import random\n",
    "\n",
    "import sys\n",
    "sys.path.append('../resources/')\n",
    "\n",
    "from get_data import stations\n",
    "\n",
    "\n",
    "def get_time_series_for_window(start_date, end_date, station, dataframe):\n",
    "    return dataframe.loc[start_date:end_date, [station]]\n",
    "\n",
    "\n",
    "def check_nan_values(dataframe):\n",
    "    return dataframe.isnull().values.any()\n",
    "\n",
    "\n",
    "def get_valid_sequences(df):\n",
    "    valid_sequences = []\n",
    "    starting_idx = 0\n",
    "\n",
    "    for i, (_, row) in enumerate(df.iterrows()):\n",
    "        flow = row[0]\n",
    "\n",
    "        if np.isnan(flow):\n",
    "\n",
    "            if starting_idx < i-1:\n",
    "                valid_sequences.append((starting_idx, i))\n",
    "                starting_idx = i+1\n",
    "            else:\n",
    "                starting_idx = i+1\n",
    "                continue\n",
    "    return valid_sequences\n",
    "\n",
    "\n",
    "def valid_seqs_minimum_len(valid_seqs, seq_len):\n",
    "    \n",
    "    valid_seqs_min_len = []\n",
    "    pops = []\n",
    "    for i, (start, end) in enumerate(valid_seqs):\n",
    "        if end - start >= seq_len:\n",
    "            valid_seqs_min_len.append((start, end))\n",
    "\n",
    "    return valid_seqs_min_len\n",
    "\n",
    "\n",
    "\n",
    "def split_sequences(possible_seqs, split_len):\n",
    "    \n",
    "    usable_seqs = []\n",
    "    for seq in possible_seqs:\n",
    "        usable_seqs += get_seq_splits(seq, split_len)\n",
    "        \n",
    "    return usable_seqs\n",
    "        \n",
    "        \n",
    "        \n",
    "def get_seq_splits(seq, split_len):\n",
    "    \n",
    "    start = seq[0]\n",
    "    end = seq[1]\n",
    "    \n",
    "    chunks = (end - start) // (split_len+1)     # +1 because there must be an unobserved item after each chunk\n",
    "                                                # which will be the y (after window value)\n",
    "\n",
    "    splits = []\n",
    "    prev_end_chunk = start\n",
    "    for i in range(chunks):\n",
    "\n",
    "        start_chunk = prev_end_chunk\n",
    "        end_chunk = start_chunk + split_len\n",
    "        splits.append((start_chunk, end_chunk))\n",
    "        prev_end_chunk = end_chunk+1\n",
    "        \n",
    "    return splits\n",
    "\n",
    "\n",
    "def get_seq_obs_values(seq, df):\n",
    "    return np.array(df.iloc[seq[0]:seq[1], :]), np.array(df.iloc[seq[1], :])\n",
    "\n",
    "\n",
    "def split_seqs_train_test(train_frac, usable_seqs):\n",
    "    \n",
    "    total_seqs = len(usable_seqs)\n",
    "    train_amount = round(total_seqs * train_frac)\n",
    "    \n",
    "    random.shuffle(usable_seqs)\n",
    "    train_seqs = usable_seqs[0:train_amount]\n",
    "    test_seqs = usable_seqs[train_amount:]\n",
    "    \n",
    "    return train_seqs, test_seqs\n",
    "\n",
    "\n",
    "def mount_trainable_testable_arrays(seqs, df):\n",
    "    \n",
    "    x_data = []\n",
    "    y_data = []\n",
    "    for seq in seqs:\n",
    "        x, y = get_seq_obs_values(seq, df)\n",
    "        x_data.append(x)\n",
    "        y_data.append(y)\n",
    "    \n",
    "    return np.array(x_data), np.array(y_data)"
   ]
  },
  {
   "cell_type": "code",
   "execution_count": 7,
   "metadata": {},
   "outputs": [
    {
     "name": "stderr",
     "output_type": "stream",
     "text": [
      "100%|██████████████████████████████████████████████████████████████████████████████████| 16/16 [00:37<00:00,  2.33s/it]\n"
     ]
    }
   ],
   "source": [
    "interested_stations = ['13180000', '13300000', '13405000', '13410000', '13450000', '13470000', '13550000', '13600002', \n",
    "'13650000', '13710001', '13740000', '13750000', '13870000', '13880000', '13885000', '13886000']\n",
    "\n",
    "df, nodata = stations(interested_stations, '3')\n",
    "\n",
    "df1 = get_time_series_for_window('2000-01-01', '2015-12-31', '13450000', df)\n",
    "valid_sequences = get_valid_sequences(df1)\n",
    "\n",
    "val_seq = valid_seqs_minimum_len(valid_sequences, 31)"
   ]
  },
  {
   "cell_type": "code",
   "execution_count": 129,
   "metadata": {},
   "outputs": [],
   "source": [
    "usable_chunks = split_sequences(val_seq, 30)"
   ]
  },
  {
   "cell_type": "code",
   "execution_count": 126,
   "metadata": {},
   "outputs": [
    {
     "data": {
      "text/plain": [
       "4"
      ]
     },
     "execution_count": 126,
     "metadata": {},
     "output_type": "execute_result"
    }
   ],
   "source": [
    "(val_seq[6][1] - val_seq[6][0]) // 30"
   ]
  },
  {
   "cell_type": "code",
   "execution_count": 109,
   "metadata": {},
   "outputs": [
    {
     "data": {
      "text/plain": [
       "(4930, 5074)"
      ]
     },
     "execution_count": 109,
     "metadata": {},
     "output_type": "execute_result"
    }
   ],
   "source": [
    "val_seq[6]"
   ]
  },
  {
   "cell_type": "code",
   "execution_count": 127,
   "metadata": {},
   "outputs": [
    {
     "data": {
      "text/plain": [
       "[(4930, 4959), (4960, 4989), (4990, 5019), (5020, 5049)]"
      ]
     },
     "execution_count": 127,
     "metadata": {},
     "output_type": "execute_result"
    }
   ],
   "source": [
    "get_seq_splits(val_seq[6], 29)"
   ]
  },
  {
   "cell_type": "code",
   "execution_count": 97,
   "metadata": {},
   "outputs": [
    {
     "data": {
      "text/plain": [
       "(2130, 2159)"
      ]
     },
     "execution_count": 97,
     "metadata": {},
     "output_type": "execute_result"
    }
   ],
   "source": [
    "usable_chunks[71]"
   ]
  },
  {
   "cell_type": "code",
   "execution_count": 94,
   "metadata": {},
   "outputs": [
    {
     "data": {
      "text/plain": [
       "[(0, 2122),\n",
       " (2155, 2922),\n",
       " (3274, 3353),\n",
       " (3487, 3528),\n",
       " (3774, 4429),\n",
       " (4432, 4837),\n",
       " (4930, 5074),\n",
       " (5285, 5510)]"
      ]
     },
     "execution_count": 94,
     "metadata": {},
     "output_type": "execute_result"
    }
   ],
   "source": [
    "val_seq"
   ]
  },
  {
   "cell_type": "code",
   "execution_count": 130,
   "metadata": {},
   "outputs": [],
   "source": [
    "for i in range(len(usable_chunks)):\n",
    "    val = get_seq_obs_values(usable_chunks[i], df1)[1]\n",
    "    if np.isnan(val):\n",
    "        print(i)\n",
    "        if input(\"c?\") == 'b':\n",
    "            break"
   ]
  },
  {
   "cell_type": "code",
   "execution_count": 85,
   "metadata": {},
   "outputs": [
    {
     "data": {
      "text/plain": [
       "(5054, 5084)"
      ]
     },
     "execution_count": 85,
     "metadata": {},
     "output_type": "execute_result"
    }
   ],
   "source": [
    "usable_chunks[]"
   ]
  },
  {
   "cell_type": "code",
   "execution_count": 74,
   "metadata": {},
   "outputs": [
    {
     "data": {
      "text/plain": [
       "([(4494, 4524),\n",
       "  (806, 836),\n",
       "  (1457, 1487),\n",
       "  (4961, 4991),\n",
       "  (403, 433),\n",
       "  (2434, 2464),\n",
       "  (4425, 4455),\n",
       "  (3805, 3835),\n",
       "  (62, 92),\n",
       "  (620, 650),\n",
       "  (1829, 1859),\n",
       "  (2558, 2588),\n",
       "  (124, 154),\n",
       "  (4711, 4741),\n",
       "  (31, 61),\n",
       "  (3991, 4021),\n",
       "  (1488, 1518),\n",
       "  (1364, 1394),\n",
       "  (496, 526),\n",
       "  (4618, 4648),\n",
       "  (4930, 4960),\n",
       "  (775, 805),\n",
       "  (2170, 2200),\n",
       "  (2682, 2712),\n",
       "  (2403, 2433),\n",
       "  (2620, 2650),\n",
       "  (5471, 5501),\n",
       "  (682, 712),\n",
       "  (3518, 3548),\n",
       "  (3836, 3866),\n",
       "  (4680, 4710),\n",
       "  (2217, 2247),\n",
       "  (1953, 1983),\n",
       "  (4177, 4207),\n",
       "  (899, 929),\n",
       "  (1643, 1673),\n",
       "  (1240, 1270),\n",
       "  (2372, 2402),\n",
       "  (2139, 2169),\n",
       "  (5347, 5377),\n",
       "  (2108, 2138),\n",
       "  (3898, 3928),\n",
       "  (4022, 4052),\n",
       "  (2651, 2681),\n",
       "  (2341, 2371),\n",
       "  (744, 774),\n",
       "  (1984, 2014),\n",
       "  (2744, 2774),\n",
       "  (5316, 5346),\n",
       "  (2837, 2867),\n",
       "  (4270, 4300),\n",
       "  (1023, 1053),\n",
       "  (1736, 1766),\n",
       "  (4432, 4462),\n",
       "  (5054, 5084),\n",
       "  (3305, 3335),\n",
       "  (4649, 4679),\n",
       "  (434, 464),\n",
       "  (1612, 1642),\n",
       "  (372, 402),\n",
       "  (3867, 3897),\n",
       "  (558, 588),\n",
       "  (5502, 5532),\n",
       "  (2465, 2495),\n",
       "  (1767, 1797),\n",
       "  (837, 867),\n",
       "  (3929, 3959),\n",
       "  (1519, 1549),\n",
       "  (4363, 4393),\n",
       "  (2155, 2185),\n",
       "  (1395, 1425),\n",
       "  (1860, 1890),\n",
       "  (2077, 2107),\n",
       "  (4525, 4555),\n",
       "  (4835, 4865),\n",
       "  (4556, 4586),\n",
       "  (0, 30),\n",
       "  (2310, 2340),\n",
       "  (868, 898),\n",
       "  (1581, 1611),\n",
       "  (5285, 5315),\n",
       "  (992, 1022),\n",
       "  (1116, 1146),\n",
       "  (1426, 1456),\n",
       "  (4804, 4834),\n",
       "  (2806, 2836),\n",
       "  (341, 371),\n",
       "  (310, 340),\n",
       "  (2279, 2309),\n",
       "  (4394, 4424),\n",
       "  (1891, 1921),\n",
       "  (4146, 4176),\n",
       "  (4992, 5022),\n",
       "  (4053, 4083),\n",
       "  (3774, 3804),\n",
       "  (1178, 1208),\n",
       "  (4084, 4114),\n",
       "  (2868, 2898),\n",
       "  (279, 309),\n",
       "  (4463, 4493),\n",
       "  (4208, 4238),\n",
       "  (527, 557),\n",
       "  (589, 619),\n",
       "  (1550, 1580),\n",
       "  (961, 991),\n",
       "  (2589, 2619),\n",
       "  (4587, 4617),\n",
       "  (1798, 1828),\n",
       "  (1333, 1363),\n",
       "  (1085, 1115),\n",
       "  (2248, 2278),\n",
       "  (2186, 2216),\n",
       "  (1209, 1239),\n",
       "  (4742, 4772),\n",
       "  (1147, 1177),\n",
       "  (930, 960),\n",
       "  (4332, 4362),\n",
       "  (1674, 1704),\n",
       "  (465, 495),\n",
       "  (3960, 3990),\n",
       "  (5023, 5053),\n",
       "  (2046, 2076),\n",
       "  (2775, 2805),\n",
       "  (713, 743),\n",
       "  (2930, 2960),\n",
       "  (3274, 3304),\n",
       "  (2015, 2045),\n",
       "  (4773, 4803),\n",
       "  (3487, 3517),\n",
       "  (1705, 1735),\n",
       "  (2713, 2743),\n",
       "  (4115, 4145),\n",
       "  (155, 185),\n",
       "  (1054, 1084),\n",
       "  (93, 123),\n",
       "  (651, 681)],\n",
       " [(5440, 5470),\n",
       "  (1271, 1301),\n",
       "  (186, 216),\n",
       "  (4239, 4269),\n",
       "  (5409, 5439),\n",
       "  (3336, 3366),\n",
       "  (217, 247),\n",
       "  (1922, 1952),\n",
       "  (248, 278),\n",
       "  (2899, 2929),\n",
       "  (1302, 1332),\n",
       "  (4301, 4331),\n",
       "  (2527, 2557),\n",
       "  (5378, 5408),\n",
       "  (2496, 2526)])"
      ]
     },
     "execution_count": 74,
     "metadata": {},
     "output_type": "execute_result"
    }
   ],
   "source": [
    "split_seqs_train_test(0.9, usable_chunks)"
   ]
  },
  {
   "cell_type": "code",
   "execution_count": 132,
   "metadata": {},
   "outputs": [
    {
     "data": {
      "text/plain": [
       "(1333, 1363)"
      ]
     },
     "execution_count": 132,
     "metadata": {},
     "output_type": "execute_result"
    }
   ],
   "source": [
    "train_seqs, test_seqs = split_seqs_train_test(0.9, usable_chunks)\n",
    "train_seqs[0]"
   ]
  },
  {
   "cell_type": "code",
   "execution_count": 135,
   "metadata": {},
   "outputs": [],
   "source": [
    "x_train, y_train = mount_trainable_testable_arrays(train_seqs, df1)\n",
    "x_test, y_test = mount_trainable_testable_arrays(test_seqs, df1)"
   ]
  },
  {
   "cell_type": "code",
   "execution_count": 45,
   "metadata": {},
   "outputs": [],
   "source": [
    "model = Sequential()\n",
    "model.add(LSTM(64, dropout=0.2, recurrent_dropout=0.2, input_shape=(None, 1)))\n",
    "model.add(Dense(32))\n",
    "model.add(Dense(1))\n",
    "model.compile(loss='mean_squared_error', optimizer='adam')"
   ]
  },
  {
   "cell_type": "code",
   "execution_count": 136,
   "metadata": {},
   "outputs": [
    {
     "name": "stdout",
     "output_type": "stream",
     "text": [
      "Train on 126 samples, validate on 14 samples\n",
      "126/126 [==============================] - 2s 15ms/sample - loss: 28674.7647 - val_loss: 2776.6567\n"
     ]
    },
    {
     "data": {
      "text/plain": [
       "<tensorflow.python.keras.callbacks.History at 0x230f860ed48>"
      ]
     },
     "execution_count": 136,
     "metadata": {},
     "output_type": "execute_result"
    }
   ],
   "source": [
    "model.fit(x_train, y_train,validation_data=(x_test,y_test))"
   ]
  },
  {
   "cell_type": "code",
   "execution_count": null,
   "metadata": {},
   "outputs": [],
   "source": []
  }
 ],
 "metadata": {
  "kernelspec": {
   "display_name": "Python 3",
   "language": "python",
   "name": "python3"
  },
  "language_info": {
   "codemirror_mode": {
    "name": "ipython",
    "version": 3
   },
   "file_extension": ".py",
   "mimetype": "text/x-python",
   "name": "python",
   "nbconvert_exporter": "python",
   "pygments_lexer": "ipython3",
   "version": "3.7.5"
  }
 },
 "nbformat": 4,
 "nbformat_minor": 4
}
